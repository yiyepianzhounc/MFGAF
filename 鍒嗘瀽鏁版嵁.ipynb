{
 "cells": [
  {
   "cell_type": "code",
   "execution_count": 15,
   "id": "60fac347-3739-4670-9665-5f1d46d58874",
   "metadata": {},
   "outputs": [],
   "source": [
    "import pandas as pd\n",
    "import json\n",
    "import os\n",
    "from tqdm import tqdm"
   ]
  },
  {
   "cell_type": "code",
   "execution_count": null,
   "id": "2d0c08da-8921-4518-bdd4-5c4189ff6ed3",
   "metadata": {},
   "outputs": [],
   "source": []
  },
  {
   "cell_type": "markdown",
   "id": "ece3c5e7-b1da-4da1-9b55-6020dc091b4c",
   "metadata": {},
   "source": [
    "# 1、读取数据"
   ]
  },
  {
   "cell_type": "code",
   "execution_count": 16,
   "id": "2e01957a-73f9-4621-82de-fca0947aa0fb",
   "metadata": {},
   "outputs": [],
   "source": [
    "import json\n",
    "\n",
    "# 读取 jsonl 文件\n",
    "def read_jsonl(file_path):\n",
    "    data = []\n",
    "    with open(file_path, 'r', encoding='utf-8') as f:\n",
    "        for line in f:\n",
    "            # 将每一行的 JSON 字符串转换为字典\n",
    "            data.append(json.loads(line.strip()))\n",
    "    return data"
   ]
  },
  {
   "cell_type": "code",
   "execution_count": 17,
   "id": "51fe74d8-cdd0-4618-b29d-6aa5679ce169",
   "metadata": {},
   "outputs": [],
   "source": [
    "# 读取 finance\n",
    "file_path = 'finance.jsonl'  \n",
    "finance = read_jsonl(file_path)\n",
    "\n",
    "# 读取 finance\n",
    "file_path = 'revised_chatgpt_finance.txt'  \n",
    "revised_chatgpt_finance = read_jsonl(file_path)\n",
    "\n",
    "# 读取 finance\n",
    "file_path = 'revised_human_finance.txt'  \n",
    "revised_human_finance = read_jsonl(file_path)"
   ]
  },
  {
   "cell_type": "code",
   "execution_count": null,
   "id": "a623c2ec-3b24-4487-b470-408919f1492e",
   "metadata": {},
   "outputs": [],
   "source": []
  },
  {
   "cell_type": "code",
   "execution_count": 18,
   "id": "d21f75e4-b69d-45dd-9ec7-9f249cc34765",
   "metadata": {},
   "outputs": [
    {
     "data": {
      "text/plain": [
       "3933"
      ]
     },
     "execution_count": 18,
     "metadata": {},
     "output_type": "execute_result"
    }
   ],
   "source": [
    "len(finance)"
   ]
  },
  {
   "cell_type": "code",
   "execution_count": 19,
   "id": "0100ad1e-f9e2-4cf7-a7a5-dde815631d2b",
   "metadata": {},
   "outputs": [
    {
     "data": {
      "text/plain": [
       "{'0': \"\\n\\nRevised: The price-to-earnings (P/E) ratios for small-cap and large-cap stocks have fluctuated greatly over time and are not directly comparable due to the unique characteristics of these two categories of stocks. Small-cap stocks, defined as those with a market capitalization of under $2 billion, are riskier and more volatile than large-cap stocks, with a market capitalization of $10 billion or more. This often results in investors being willing to pay a greater price for the potential growth opportunities associated with small-cap stocks, leading to higher P/E ratios.\\n\\nIn contrast, large-cap stocks are more established, stable, and have a longer track record of earnings and revenue growth, which can result in lower P/E ratios as investors may be less willing to pay a premium for growth potential. It is essential to note that P/E ratios are only one element to consider when assessing a stock and should not be the only criteria used. Other factors, such as the company's financial health, industry trends, and macroeconomic conditions, can also have an impact on a stock's P/E ratio.\"}"
      ]
     },
     "execution_count": 19,
     "metadata": {},
     "output_type": "execute_result"
    }
   ],
   "source": [
    "revised_chatgpt_finance[0]"
   ]
  },
  {
   "cell_type": "code",
   "execution_count": 20,
   "id": "0c807faa-a6ce-4b71-a9e4-f7081a84fd67",
   "metadata": {},
   "outputs": [
    {
     "data": {
      "text/plain": [
       "{'0': \"\\n\\nIt's possible that there is an error in the data of WSJ. According to Yahoo! Finance, the P/E ratio of Russell 2000 was 15 as of 8/31/11 and the P/E ratio of S&P 500 was 13, which is similar to WSJ's report. Nevertheless, it's a good observation! You may want to email WSJ about it, as they might appreciate the notice.\"}"
      ]
     },
     "execution_count": 20,
     "metadata": {},
     "output_type": "execute_result"
    }
   ],
   "source": [
    "revised_human_finance[0]"
   ]
  },
  {
   "cell_type": "code",
   "execution_count": null,
   "id": "8f75f4bf-70b4-4db5-889c-bd36cd4e496a",
   "metadata": {},
   "outputs": [],
   "source": []
  },
  {
   "cell_type": "code",
   "execution_count": 36,
   "id": "394c2766-9819-470e-835a-e5e57488a468",
   "metadata": {},
   "outputs": [],
   "source": [
    "# 读取 finance\n",
    "file_path = 'finance_samples_gpt4i-mini.jsonl'  \n",
    "finance_samples = read_jsonl(file_path)"
   ]
  },
  {
   "cell_type": "code",
   "execution_count": 37,
   "id": "79f76ae8-9827-4c81-af2c-c13fad9b15ce",
   "metadata": {},
   "outputs": [
    {
     "data": {
      "text/plain": [
       "{'question': 'Strategy to pay off car loan before selling the car',\n",
       " 'human_answers': \"As far as ease of sale transaction goes you'll want to pay off the loan and have the title in your name and in your hand at the time of sale.  Selling a car private party is difficult enough, the last thing you want is some administrivia clouding your deal.  How you go about paying the remaining balance on the car is really up to you.  If you can make that happen on a CC without paying an additional fee, that sounds like a good option.\",\n",
       " 'chatgpt_answers': \"If you want to pay off your car loan before selling the car, here are some strategies you can consider:Make extra payments: Consider making extra payments on your car loan to pay it off faster. You can do this by increasing the amount you pay each month or by making additional payments when you have extra money available.Refinance your loan: If you have a high-interest rate on your car loan, you may be able to save money by refinancing. By refinancing, you can potentially get a lower interest rate and reduce your monthly payments.Sell the car and use the proceeds to pay off the loan: If you are able to sell the car for more than the remaining balance on the loan, you can use the proceeds from the sale to pay off the loan in full.Consider a personal loan or home equity loan: If you have equity in your home or good credit, you may be able to get a personal loan or home equity loan at a lower interest rate than your car loan. You can use the loan to pay off the car loan and then pay off the personal or home equity loan over time.Consider a debt consolidation loan: If you have multiple debts, including a car loan, you may be able to consolidate your debts into one loan with a lower interest rate. This can make it easier to manage your debts and potentially save you money on interest.It's important to carefully consider your options and choose the strategy that works best for your financial situation. You may want to consult with a financial advisor or professional before making a decision.\",\n",
       " 'human_answers_masked': \"As far as ease of sale transaction goes you'll want to pay off the loan and have the title in your name and in your hand at the time of sale. Selling a car private party is difficult enough, the last thing you want is some administrivia clouding your deal. [MASK] [MASK]\",\n",
       " 'chatgpt_answers_masked': \"[MASK] You can do this by increasing the amount you pay each month or by making additional payments when you have extra money available.Refinance your loan: If you have a high-interest rate on your car loan, you may be able to save money by refinancing. [MASK] [MASK] This can make it easier to manage your debts and potentially save you money on interest.It's important to carefully consider your options and choose the strategy that works best for your financial situation. You may want to consult with a financial advisor or professional before making a decision.\",\n",
       " 'human_answers_masked_fill': \"As far as ease of sale transaction goes you'll want to pay off the loan and have the title in your name and in your hand at the time of sale. Selling a car private party is difficult enough, the last thing you want is some administrivia clouding your deal. One strategy is to make extra payments towards the principal to reduce interest and pay off the balance sooner. Another approach is to refinance the loan for better terms before selling.\",\n",
       " 'chatgpt_answers_masked_fill': \"Pay off your car loan before selling the car to ensure you have clear ownership of the vehicle, consider timing your sale to coincide with when you pay off the loan. You can do this by increasing the amount you pay each month or by making additional payments when you have extra money available. Refinance your loan: If you have a high-interest rate on your car loan, you may be able to save money by refinancing. This can help reduce your monthly payments and decrease the total interest paid. This can make it easier to manage your debts and potentially save you money on interest. It's important to carefully consider your options and choose the strategy that works best for your financial situation. You may want to consult with a financial advisor or professional before making a decision.\",\n",
       " 'human_answers_revised': \"\\n\\n\\nTo ensure a smooth sale transaction, it's crucial to have the loan paid off and the title in your possession prior to selling your car privately. Unnecessary paperwork can make the process even more challenging. There are various methods to clear the car loan balance, and the choice is yours. Using a credit card without incurring any additional costs would be a wise option to consider.\",\n",
       " 'chatgpt_answers_revised': 'If you wish to pay off your car loan before selling your vehicle, you can try some of these effective strategies:\\n\\n1. Make extra payments: To pay off your loan faster, you can increase the amount you pay every month or make extra payments whenever you have additional funds.\\n\\n2. Refinance your loan: You may be able to save money by refinancing if you have a high-interest rate on your car loan. Refinancing can result in a lower interest rate and reduced monthly payments.\\n\\n3. Use the car sale proceeds: If you can sell your vehicle for a price higher than the remaining balance on the loan, you can use the money from the sale to repay the loan in full.\\n\\n4. Consider a personal or home equity loan: With good credit or home equity, you can qualify for a personal loan or home equity loan that offers a lower interest rate than your car loan. You can use the loan money to repay the car loan and then pay off the new loan over time.\\n\\n5. Debt consolidation loan: If you have multiple debts, including a car loan, you can consolidate them into one loan with a lower interest rate. This simplifies your debt management and may save you money on interest.\\n\\nBefore making a decision, it is crucial to weigh your options carefully and select the strategy that works best for your financial situation. You can also consider consulting with a financial advisor or professional.'}"
      ]
     },
     "execution_count": 37,
     "metadata": {},
     "output_type": "execute_result"
    }
   ],
   "source": [
    "finance_samples[522]"
   ]
  },
  {
   "cell_type": "code",
   "execution_count": null,
   "id": "1b2de215-a074-40a0-b61e-68d04620fb87",
   "metadata": {},
   "outputs": [],
   "source": []
  },
  {
   "cell_type": "code",
   "execution_count": null,
   "id": "a272fdd8-f474-4472-98cf-6102a9483be8",
   "metadata": {},
   "outputs": [],
   "source": []
  },
  {
   "cell_type": "code",
   "execution_count": null,
   "id": "56dfd416-d362-446e-a17a-17effb5073f9",
   "metadata": {},
   "outputs": [],
   "source": []
  },
  {
   "cell_type": "code",
   "execution_count": null,
   "id": "dede968c-cb7d-4db6-af7b-8c2dde52ae41",
   "metadata": {},
   "outputs": [],
   "source": []
  },
  {
   "cell_type": "code",
   "execution_count": null,
   "id": "d54a14b7-fea8-41dd-8b29-dd5417cc9fca",
   "metadata": {},
   "outputs": [],
   "source": []
  }
 ],
 "metadata": {
  "kernelspec": {
   "display_name": "Python 3 (ipykernel)",
   "language": "python",
   "name": "python3"
  },
  "language_info": {
   "codemirror_mode": {
    "name": "ipython",
    "version": 3
   },
   "file_extension": ".py",
   "mimetype": "text/x-python",
   "name": "python",
   "nbconvert_exporter": "python",
   "pygments_lexer": "ipython3",
   "version": "3.10.8"
  }
 },
 "nbformat": 4,
 "nbformat_minor": 5
}
